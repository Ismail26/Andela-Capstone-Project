{
  "nbformat": 4,
  "nbformat_minor": 0,
  "metadata": {
    "colab": {
      "provenance": [],
      "include_colab_link": true
    },
    "kernelspec": {
      "name": "python3",
      "display_name": "Python 3"
    },
    "language_info": {
      "name": "python"
    }
  },
  "cells": [
    {
      "cell_type": "markdown",
      "metadata": {
        "id": "view-in-github",
        "colab_type": "text"
      },
      "source": [
        "<a href=\"https://colab.research.google.com/github/Ismail26/Andela-Capstone-Project/blob/master/Ismail_Olajide_DSNInternshipCodingAssessment.ipynb\" target=\"_parent\"><img src=\"https://colab.research.google.com/assets/colab-badge.svg\" alt=\"Open In Colab\"/></a>"
      ]
    },
    {
      "cell_type": "markdown",
      "source": [
        "## Introduction\n",
        "\n",
        "Welcome to the DSN Internship Coding Challenge! This assessment will put your Natural Language Processing (NLP) and problem-solving abilities to the test. :\n",
        "\n",
        "- Section one of the assessmnet will require you to build a text classification model.\n",
        "\n",
        "Good luck! If you have questions about the framing of the questions, please contact **recruitment@datasciencenigeria.ai**\n",
        "\n",
        "### How to Use and Submit this Notebook.\n",
        "- Make a copy of this document and rename it **Firstname_Lastname_DSNInternshipCodingAssessment.ipynb**\n",
        "- Before attempting to submit, ensure that you have ran all of the cells in your notebook and the output visible.\n",
        "- Once you’ve completed all tasks, save and download a copy of the notebook as .ipynb\n",
        "- Submit a link (make sure that the link is set to \"Anyone on the internet with the link can view\"), the downloaded copy of your final notebook via this [link](https://forms.gle/t8sFNrfAymZUrfJq7).\n",
        "\n",
        "### What Not to Do.\n",
        "- Do not share this document with any external party\n",
        "- No teamwork is permitted\n",
        "- After submitting a copy of your script, you are not permitted to make any changes to the online version; any discrepancy between the online and submitted copies will render your application null and void."
      ],
      "metadata": {
        "id": "M16jEgLwqhR-"
      }
    },
    {
      "cell_type": "markdown",
      "source": [
        "### Dataset\n",
        "\n",
        "This is a news [dataset](https://drive.google.com/file/d/1NgPM7_mFCDKnuqI9SamMCrkF1mE5AgAI/view?usp=sharing) which contains 2225 examples of news articles with their respective labels. Use to the link to learn more about the dataset"
      ],
      "metadata": {
        "id": "UpRXFFAUphKP"
      }
    },
    {
      "cell_type": "markdown",
      "source": [
        "## Section 1"
      ],
      "metadata": {
        "id": "_8nu90TBySAA"
      }
    },
    {
      "cell_type": "markdown",
      "source": [
        "### Task\n",
        "\n",
        "**This is to test your knowledge on NLP**\n",
        "\n",
        "Build and train a machine learning model with the provided dataset to classify the news category or topic. You can use any architecture or model, in this test.\n",
        "\n",
        "**Make sure to plot the accuracy vs epochs and loss vs epochs graphs**"
      ],
      "metadata": {
        "id": "mSP58peMray5"
      }
    },
    {
      "cell_type": "code",
      "source": [
        "# import libraries\n",
        "\n",
        "import numpy as np\n",
        "import pandas as pd\n",
        "import matplotlib.pyplot as plt\n",
        "import tensorflow as tf\n",
        "import csv\n",
        "from tensorflow.keras.preprocessing.text import Tokenizer\n",
        "from tensorflow.keras.preprocessing.sequence import pad_sequences\n",
        "from tensorflow.keras.models import Sequential\n",
        "import nltk\n",
        "from nltk.corpus import stopwords\n",
        "import os\n",
        "os.getcwd()\n"
      ],
      "metadata": {
        "id": "Q9mTFU427dk1",
        "colab": {
          "base_uri": "https://localhost:8080/",
          "height": 35
        },
        "outputId": "0566713f-635f-4359-b48b-20b6b140faef"
      },
      "execution_count": null,
      "outputs": [
        {
          "output_type": "execute_result",
          "data": {
            "text/plain": [
              "'/content'"
            ],
            "application/vnd.google.colaboratory.intrinsic+json": {
              "type": "string"
            }
          },
          "metadata": {},
          "execution_count": 9
        }
      ]
    },
    {
      "cell_type": "code",
      "source": [
        "#read csv data\n",
        "\n",
        "bbc_text = pd.read_csv(r'/bbc-text.csv')"
      ],
      "metadata": {
        "id": "rpAK-sXy_nkI"
      },
      "execution_count": null,
      "outputs": []
    },
    {
      "cell_type": "code",
      "source": [
        "print (bbc_text)"
      ],
      "metadata": {
        "colab": {
          "base_uri": "https://localhost:8080/"
        },
        "id": "0mqaCpXZAFPj",
        "outputId": "0bade2a4-ef6b-40fc-9968-f50626206dd2"
      },
      "execution_count": null,
      "outputs": [
        {
          "output_type": "stream",
          "name": "stdout",
          "text": [
            "           category                                               text\n",
            "0              tech  tv future in the hands of viewers with home th...\n",
            "1          business  worldcom boss  left books alone  former worldc...\n",
            "2             sport  tigers wary of farrell  gamble  leicester say ...\n",
            "3             sport  yeading face newcastle in fa cup premiership s...\n",
            "4     entertainment  ocean s twelve raids box office ocean s twelve...\n",
            "...             ...                                                ...\n",
            "2220       business  cars pull down us retail figures us retail sal...\n",
            "2221       politics  kilroy unveils immigration policy ex-chatshow ...\n",
            "2222  entertainment  rem announce new glasgow concert us band rem h...\n",
            "2223       politics  how political squabbles snowball it s become c...\n",
            "2224          sport  souness delight at euro progress boss graeme s...\n",
            "\n",
            "[2225 rows x 2 columns]\n"
          ]
        }
      ]
    },
    {
      "cell_type": "code",
      "source": [
        "# data exploration\n",
        "bbc_text.head()"
      ],
      "metadata": {
        "colab": {
          "base_uri": "https://localhost:8080/",
          "height": 206
        },
        "id": "lKIYFsbWAcaF",
        "outputId": "7e62be96-3fbf-4ca2-dce0-526ceeaebb0d"
      },
      "execution_count": null,
      "outputs": [
        {
          "output_type": "execute_result",
          "data": {
            "text/plain": [
              "        category                                               text\n",
              "0           tech  tv future in the hands of viewers with home th...\n",
              "1       business  worldcom boss  left books alone  former worldc...\n",
              "2          sport  tigers wary of farrell  gamble  leicester say ...\n",
              "3          sport  yeading face newcastle in fa cup premiership s...\n",
              "4  entertainment  ocean s twelve raids box office ocean s twelve..."
            ],
            "text/html": [
              "\n",
              "  <div id=\"df-ebd442a7-74e5-406f-a0e3-6d02ec1c98a8\">\n",
              "    <div class=\"colab-df-container\">\n",
              "      <div>\n",
              "<style scoped>\n",
              "    .dataframe tbody tr th:only-of-type {\n",
              "        vertical-align: middle;\n",
              "    }\n",
              "\n",
              "    .dataframe tbody tr th {\n",
              "        vertical-align: top;\n",
              "    }\n",
              "\n",
              "    .dataframe thead th {\n",
              "        text-align: right;\n",
              "    }\n",
              "</style>\n",
              "<table border=\"1\" class=\"dataframe\">\n",
              "  <thead>\n",
              "    <tr style=\"text-align: right;\">\n",
              "      <th></th>\n",
              "      <th>category</th>\n",
              "      <th>text</th>\n",
              "    </tr>\n",
              "  </thead>\n",
              "  <tbody>\n",
              "    <tr>\n",
              "      <th>0</th>\n",
              "      <td>tech</td>\n",
              "      <td>tv future in the hands of viewers with home th...</td>\n",
              "    </tr>\n",
              "    <tr>\n",
              "      <th>1</th>\n",
              "      <td>business</td>\n",
              "      <td>worldcom boss  left books alone  former worldc...</td>\n",
              "    </tr>\n",
              "    <tr>\n",
              "      <th>2</th>\n",
              "      <td>sport</td>\n",
              "      <td>tigers wary of farrell  gamble  leicester say ...</td>\n",
              "    </tr>\n",
              "    <tr>\n",
              "      <th>3</th>\n",
              "      <td>sport</td>\n",
              "      <td>yeading face newcastle in fa cup premiership s...</td>\n",
              "    </tr>\n",
              "    <tr>\n",
              "      <th>4</th>\n",
              "      <td>entertainment</td>\n",
              "      <td>ocean s twelve raids box office ocean s twelve...</td>\n",
              "    </tr>\n",
              "  </tbody>\n",
              "</table>\n",
              "</div>\n",
              "      <button class=\"colab-df-convert\" onclick=\"convertToInteractive('df-ebd442a7-74e5-406f-a0e3-6d02ec1c98a8')\"\n",
              "              title=\"Convert this dataframe to an interactive table.\"\n",
              "              style=\"display:none;\">\n",
              "        \n",
              "  <svg xmlns=\"http://www.w3.org/2000/svg\" height=\"24px\"viewBox=\"0 0 24 24\"\n",
              "       width=\"24px\">\n",
              "    <path d=\"M0 0h24v24H0V0z\" fill=\"none\"/>\n",
              "    <path d=\"M18.56 5.44l.94 2.06.94-2.06 2.06-.94-2.06-.94-.94-2.06-.94 2.06-2.06.94zm-11 1L8.5 8.5l.94-2.06 2.06-.94-2.06-.94L8.5 2.5l-.94 2.06-2.06.94zm10 10l.94 2.06.94-2.06 2.06-.94-2.06-.94-.94-2.06-.94 2.06-2.06.94z\"/><path d=\"M17.41 7.96l-1.37-1.37c-.4-.4-.92-.59-1.43-.59-.52 0-1.04.2-1.43.59L10.3 9.45l-7.72 7.72c-.78.78-.78 2.05 0 2.83L4 21.41c.39.39.9.59 1.41.59.51 0 1.02-.2 1.41-.59l7.78-7.78 2.81-2.81c.8-.78.8-2.07 0-2.86zM5.41 20L4 18.59l7.72-7.72 1.47 1.35L5.41 20z\"/>\n",
              "  </svg>\n",
              "      </button>\n",
              "      \n",
              "  <style>\n",
              "    .colab-df-container {\n",
              "      display:flex;\n",
              "      flex-wrap:wrap;\n",
              "      gap: 12px;\n",
              "    }\n",
              "\n",
              "    .colab-df-convert {\n",
              "      background-color: #E8F0FE;\n",
              "      border: none;\n",
              "      border-radius: 50%;\n",
              "      cursor: pointer;\n",
              "      display: none;\n",
              "      fill: #1967D2;\n",
              "      height: 32px;\n",
              "      padding: 0 0 0 0;\n",
              "      width: 32px;\n",
              "    }\n",
              "\n",
              "    .colab-df-convert:hover {\n",
              "      background-color: #E2EBFA;\n",
              "      box-shadow: 0px 1px 2px rgba(60, 64, 67, 0.3), 0px 1px 3px 1px rgba(60, 64, 67, 0.15);\n",
              "      fill: #174EA6;\n",
              "    }\n",
              "\n",
              "    [theme=dark] .colab-df-convert {\n",
              "      background-color: #3B4455;\n",
              "      fill: #D2E3FC;\n",
              "    }\n",
              "\n",
              "    [theme=dark] .colab-df-convert:hover {\n",
              "      background-color: #434B5C;\n",
              "      box-shadow: 0px 1px 3px 1px rgba(0, 0, 0, 0.15);\n",
              "      filter: drop-shadow(0px 1px 2px rgba(0, 0, 0, 0.3));\n",
              "      fill: #FFFFFF;\n",
              "    }\n",
              "  </style>\n",
              "\n",
              "      <script>\n",
              "        const buttonEl =\n",
              "          document.querySelector('#df-ebd442a7-74e5-406f-a0e3-6d02ec1c98a8 button.colab-df-convert');\n",
              "        buttonEl.style.display =\n",
              "          google.colab.kernel.accessAllowed ? 'block' : 'none';\n",
              "\n",
              "        async function convertToInteractive(key) {\n",
              "          const element = document.querySelector('#df-ebd442a7-74e5-406f-a0e3-6d02ec1c98a8');\n",
              "          const dataTable =\n",
              "            await google.colab.kernel.invokeFunction('convertToInteractive',\n",
              "                                                     [key], {});\n",
              "          if (!dataTable) return;\n",
              "\n",
              "          const docLinkHtml = 'Like what you see? Visit the ' +\n",
              "            '<a target=\"_blank\" href=https://colab.research.google.com/notebooks/data_table.ipynb>data table notebook</a>'\n",
              "            + ' to learn more about interactive tables.';\n",
              "          element.innerHTML = '';\n",
              "          dataTable['output_type'] = 'display_data';\n",
              "          await google.colab.output.renderOutput(dataTable, element);\n",
              "          const docLink = document.createElement('div');\n",
              "          docLink.innerHTML = docLinkHtml;\n",
              "          element.appendChild(docLink);\n",
              "        }\n",
              "      </script>\n",
              "    </div>\n",
              "  </div>\n",
              "  "
            ]
          },
          "metadata": {},
          "execution_count": 12
        }
      ]
    },
    {
      "cell_type": "code",
      "source": [
        "# checking count for each text category\n",
        "bbc_text['category'].value_counts()"
      ],
      "metadata": {
        "id": "GdNC8eTBETI_",
        "colab": {
          "base_uri": "https://localhost:8080/"
        },
        "outputId": "932c38b1-093f-4b02-dcb2-23754d353485"
      },
      "execution_count": null,
      "outputs": [
        {
          "output_type": "execute_result",
          "data": {
            "text/plain": [
              "sport            511\n",
              "business         510\n",
              "politics         417\n",
              "tech             401\n",
              "entertainment    386\n",
              "Name: category, dtype: int64"
            ]
          },
          "metadata": {},
          "execution_count": 13
        }
      ]
    },
    {
      "cell_type": "code",
      "source": [
        "# checking for null values\n",
        "bbc_text.isnull().sum()"
      ],
      "metadata": {
        "colab": {
          "base_uri": "https://localhost:8080/"
        },
        "id": "hloadl-xKW8B",
        "outputId": "8895f4f9-68fe-4c4a-b388-e02d03a7bdc5"
      },
      "execution_count": null,
      "outputs": [
        {
          "output_type": "execute_result",
          "data": {
            "text/plain": [
              "category    0\n",
              "text        0\n",
              "dtype: int64"
            ]
          },
          "metadata": {},
          "execution_count": 14
        }
      ]
    },
    {
      "cell_type": "code",
      "source": [
        "\n",
        "nltk.download('stopwords')\n",
        "stopWords = set(stopwords.words('english'))"
      ],
      "metadata": {
        "colab": {
          "base_uri": "https://localhost:8080/"
        },
        "id": "K1wYz3jmAMvQ",
        "outputId": "88b5f819-c17d-4f5f-ed4f-f37025aacce1"
      },
      "execution_count": null,
      "outputs": [
        {
          "output_type": "stream",
          "name": "stderr",
          "text": [
            "[nltk_data] Downloading package stopwords to /root/nltk_data...\n",
            "[nltk_data]   Unzipping corpora/stopwords.zip.\n"
          ]
        }
      ]
    },
    {
      "cell_type": "code",
      "source": [
        "# preprocessing the data\n",
        "# Removing stopwords from sentences (text) and label (category)\n",
        "\n",
        "sentences = []\n",
        "labels = []\n",
        "\n",
        "with open('/bbc-text.csv','r') as csvfile:\n",
        "    reader = csv.reader(csvfile, delimiter=',')\n",
        "    next(reader)\n",
        "    for row in reader:\n",
        "        labels.append(row[0])\n",
        "        sentence = row[1]\n",
        "        for word in stopWords:\n",
        "            token = ' ' + word + ' '\n",
        "            sentence = sentence.replace(token, ' ')\n",
        "            sentence = sentence.replace(' ', ' ')\n",
        "        sentences.append(sentence)\n",
        "\n",
        "print(len(sentences))\n",
        "print(len(labels))\n",
        "\n"
      ],
      "metadata": {
        "id": "njmqNeJtUjWj",
        "colab": {
          "base_uri": "https://localhost:8080/"
        },
        "outputId": "0ee04c59-a161-4e58-b92f-fdcc46e02de4"
      },
      "execution_count": null,
      "outputs": [
        {
          "output_type": "stream",
          "name": "stdout",
          "text": [
            "2225\n",
            "2225\n"
          ]
        }
      ]
    },
    {
      "cell_type": "code",
      "source": [
        "# creating features and training for model building\n",
        "\n",
        "train_size = int(len(sentences) * 0.8)\n",
        "\n",
        "train_sentences = sentences[0: train_size]\n",
        "train_labels = labels[0: train_size]\n",
        "\n",
        "validation_sentences = sentences[train_size:]\n",
        "validation_labels = labels[train_size:]\n",
        "\n",
        "print(\"train_size is\", train_size)\n",
        "print(\"number of train_sentences is \",len(train_sentences))\n",
        "print(\"number of train_labels is \", len(train_labels))\n",
        "print(\"number of validation_sentences is \",len(validation_sentences))\n",
        "print(\"number of validation_labels is \",len(validation_labels))"
      ],
      "metadata": {
        "colab": {
          "base_uri": "https://localhost:8080/"
        },
        "id": "NPITmzoOJDdo",
        "outputId": "8e6a537a-51bb-4fd2-eebf-d24d2e118678"
      },
      "execution_count": null,
      "outputs": [
        {
          "output_type": "stream",
          "name": "stdout",
          "text": [
            "train_size is 1780\n",
            "number of train_sentences is  1780\n",
            "number of train_labels is  1780\n",
            "number of validation_sentences is  445\n",
            "number of validation_labels is  445\n"
          ]
        }
      ]
    },
    {
      "cell_type": "code",
      "source": [
        "# hyper-parameters required to build model\n",
        "\n",
        "vocab_size = 3000\n",
        "embedding_dim = 64\n",
        "max_length = 180\n",
        "trunc_type='post'\n",
        "padding_type='post'\n",
        "oov_tok = \"\""
      ],
      "metadata": {
        "id": "d4L7kzACQPC8"
      },
      "execution_count": null,
      "outputs": []
    },
    {
      "cell_type": "code",
      "source": [
        "# Applying tokenization, convert to sequence, truncating and padding to train and validation sentences#\n",
        "\n",
        "# perform tokenization\n",
        "\n",
        "tokenizer = Tokenizer(num_words = vocab_size, oov_token=oov_tok)\n",
        "tokenizer.fit_on_texts(train_sentences)\n",
        "word_index = tokenizer.word_index\n",
        "\n",
        "# convert to sequence\n",
        "train_sequences = tokenizer.texts_to_sequences(train_sentences)\n",
        "\n",
        "# truncating and padding sequence\n",
        "train_padded = pad_sequences(train_sequences, padding=padding_type, maxlen=max_length, truncating=trunc_type)\n",
        "\n",
        "print(len(train_sequences[0]))\n",
        "print(len(train_padded[0]))\n",
        "\n",
        "print(len(train_sequences[5]))\n",
        "print(len(train_padded[5]))"
      ],
      "metadata": {
        "colab": {
          "base_uri": "https://localhost:8080/"
        },
        "id": "HLvdJz-OO9ED",
        "outputId": "9b075142-8867-4cd8-f8bd-c5150c433743"
      },
      "execution_count": null,
      "outputs": [
        {
          "output_type": "stream",
          "name": "stdout",
          "text": [
            "426\n",
            "180\n",
            "355\n",
            "180\n"
          ]
        }
      ]
    },
    {
      "cell_type": "code",
      "source": [
        "# convert to sequence, padding and truncating for validation sentence\n",
        "validation_sequences = tokenizer.texts_to_sequences(validation_sentences)\n",
        "validation_padded = pad_sequences(validation_sequences, padding=padding_type, maxlen=max_length, truncating=trunc_type)\n",
        "\n",
        "print(len(validation_sequences))\n",
        "print(validation_padded.shape)\n",
        "\n"
      ],
      "metadata": {
        "colab": {
          "base_uri": "https://localhost:8080/"
        },
        "id": "fjsY4Y8uO9NC",
        "outputId": "ad156287-6d1a-45d3-c5ba-718bafdf6fa7"
      },
      "execution_count": null,
      "outputs": [
        {
          "output_type": "stream",
          "name": "stdout",
          "text": [
            "445\n",
            "(445, 180)\n"
          ]
        }
      ]
    },
    {
      "cell_type": "code",
      "source": [
        "# applyimg tokenization on label features\n",
        "\n",
        "label_tokenizer = Tokenizer()\n",
        "label_tokenizer.fit_on_texts(labels)\n",
        "\n",
        "training_label_seq = np.array(label_tokenizer.texts_to_sequences(train_labels))\n",
        "validation_label_seq = np.array(label_tokenizer.texts_to_sequences(validation_labels))\n",
        "\n",
        "print(training_label_seq[1])\n",
        "print(training_label_seq.shape)\n",
        "\n",
        "print(validation_label_seq[1])\n",
        "print(validation_label_seq.shape)"
      ],
      "metadata": {
        "colab": {
          "base_uri": "https://localhost:8080/"
        },
        "id": "L5zXShw0O9U5",
        "outputId": "a079d1a7-2816-467d-bd3c-9f70b7e4bee6"
      },
      "execution_count": null,
      "outputs": [
        {
          "output_type": "stream",
          "name": "stdout",
          "text": [
            "[2]\n",
            "(1780, 1)\n",
            "[4]\n",
            "(445, 1)\n"
          ]
        }
      ]
    },
    {
      "cell_type": "code",
      "source": [
        "# building machine learning model architecture\n",
        "\n",
        "ml_Model = tf.keras.Sequential([\n",
        "    tf.keras.layers.Embedding(vocab_size, embedding_dim, input_length=max_length),\n",
        "    tf.keras.layers.GlobalAveragePooling1D(),\n",
        "    tf.keras.layers.Dense(24, activation='relu'),\n",
        "    tf.keras.layers.Dense(6, activation='softmax')\n",
        "])\n",
        "\n",
        "# Adam optimizer was used to compile the model to configure the training process with the loss sparse_categorical_crossentropy since an one-hot encoding of the labels was not done.\n",
        "ml_Model.compile(loss='sparse_categorical_crossentropy',optimizer='adam',metrics=['accuracy'])\n",
        "ml_Model.summary()"
      ],
      "metadata": {
        "colab": {
          "base_uri": "https://localhost:8080/"
        },
        "id": "AltLx9n8O9f6",
        "outputId": "a3a55e94-b0f4-4465-e75d-8ff4a7250cf8"
      },
      "execution_count": null,
      "outputs": [
        {
          "output_type": "stream",
          "name": "stdout",
          "text": [
            "Model: \"sequential\"\n",
            "_________________________________________________________________\n",
            " Layer (type)                Output Shape              Param #   \n",
            "=================================================================\n",
            " embedding (Embedding)       (None, 180, 64)           192000    \n",
            "                                                                 \n",
            " global_average_pooling1d (G  (None, 64)               0         \n",
            " lobalAveragePooling1D)                                          \n",
            "                                                                 \n",
            " dense (Dense)               (None, 24)                1560      \n",
            "                                                                 \n",
            " dense_1 (Dense)             (None, 6)                 150       \n",
            "                                                                 \n",
            "=================================================================\n",
            "Total params: 193,710\n",
            "Trainable params: 193,710\n",
            "Non-trainable params: 0\n",
            "_________________________________________________________________\n"
          ]
        }
      ]
    },
    {
      "cell_type": "code",
      "source": [
        "# defining number of epoch\n",
        "\n",
        "num_epochs = 20\n",
        "history = ml_Model.fit(train_padded, training_label_seq, epochs=num_epochs, validation_data=(validation_padded, validation_label_seq), verbose=1)"
      ],
      "metadata": {
        "colab": {
          "base_uri": "https://localhost:8080/"
        },
        "id": "BNCJDLUnYZZk",
        "outputId": "ed0be878-504d-4560-e87a-6d6d8057381c"
      },
      "execution_count": null,
      "outputs": [
        {
          "output_type": "stream",
          "name": "stdout",
          "text": [
            "Epoch 1/20\n",
            "56/56 [==============================] - 2s 11ms/step - loss: 1.7204 - accuracy: 0.4421 - val_loss: 1.6115 - val_accuracy: 0.4270\n",
            "Epoch 2/20\n",
            "56/56 [==============================] - 0s 6ms/step - loss: 1.4340 - accuracy: 0.4691 - val_loss: 1.2392 - val_accuracy: 0.5640\n",
            "Epoch 3/20\n",
            "56/56 [==============================] - 0s 7ms/step - loss: 1.0223 - accuracy: 0.7006 - val_loss: 0.8654 - val_accuracy: 0.8697\n",
            "Epoch 4/20\n",
            "56/56 [==============================] - 0s 6ms/step - loss: 0.6691 - accuracy: 0.9191 - val_loss: 0.5782 - val_accuracy: 0.9236\n",
            "Epoch 5/20\n",
            "56/56 [==============================] - 0s 7ms/step - loss: 0.4172 - accuracy: 0.9562 - val_loss: 0.3947 - val_accuracy: 0.9416\n",
            "Epoch 6/20\n",
            "56/56 [==============================] - 0s 7ms/step - loss: 0.2598 - accuracy: 0.9775 - val_loss: 0.2825 - val_accuracy: 0.9618\n",
            "Epoch 7/20\n",
            "56/56 [==============================] - 0s 7ms/step - loss: 0.1690 - accuracy: 0.9871 - val_loss: 0.2224 - val_accuracy: 0.9685\n",
            "Epoch 8/20\n",
            "56/56 [==============================] - 0s 7ms/step - loss: 0.1169 - accuracy: 0.9921 - val_loss: 0.1821 - val_accuracy: 0.9708\n",
            "Epoch 9/20\n",
            "56/56 [==============================] - 0s 7ms/step - loss: 0.0839 - accuracy: 0.9966 - val_loss: 0.1580 - val_accuracy: 0.9753\n",
            "Epoch 10/20\n",
            "56/56 [==============================] - 0s 7ms/step - loss: 0.0634 - accuracy: 0.9972 - val_loss: 0.1390 - val_accuracy: 0.9753\n",
            "Epoch 11/20\n",
            "56/56 [==============================] - 1s 9ms/step - loss: 0.0385 - accuracy: 0.9983 - val_loss: 0.1215 - val_accuracy: 0.9753\n",
            "Epoch 13/20\n",
            "56/56 [==============================] - 1s 9ms/step - loss: 0.0303 - accuracy: 0.9994 - val_loss: 0.1139 - val_accuracy: 0.9730\n",
            "Epoch 14/20\n",
            "56/56 [==============================] - 1s 9ms/step - loss: 0.0246 - accuracy: 1.0000 - val_loss: 0.1110 - val_accuracy: 0.9685\n",
            "Epoch 15/20\n",
            "56/56 [==============================] - 1s 10ms/step - loss: 0.0202 - accuracy: 1.0000 - val_loss: 0.1064 - val_accuracy: 0.9753\n",
            "Epoch 16/20\n",
            "56/56 [==============================] - 1s 9ms/step - loss: 0.0169 - accuracy: 1.0000 - val_loss: 0.1035 - val_accuracy: 0.9730\n",
            "Epoch 17/20\n",
            "56/56 [==============================] - 0s 7ms/step - loss: 0.0142 - accuracy: 1.0000 - val_loss: 0.1010 - val_accuracy: 0.9730\n",
            "Epoch 18/20\n",
            "56/56 [==============================] - 0s 8ms/step - loss: 0.0121 - accuracy: 1.0000 - val_loss: 0.0989 - val_accuracy: 0.9708\n",
            "Epoch 19/20\n",
            "56/56 [==============================] - 0s 7ms/step - loss: 0.0104 - accuracy: 1.0000 - val_loss: 0.0970 - val_accuracy: 0.9708\n",
            "Epoch 20/20\n",
            "56/56 [==============================] - 0s 6ms/step - loss: 0.0090 - accuracy: 1.0000 - val_loss: 0.0969 - val_accuracy: 0.9708\n"
          ]
        }
      ]
    },
    {
      "cell_type": "code",
      "source": [
        "# plotting graph of history for accuracy and loss\n",
        "\n",
        "def plot_graphs(history, string):\n",
        "  plt.plot(history.history[string])\n",
        "  plt.plot(history.history['val_'+string])\n",
        "  plt.xlabel(\"Epoch Count\")\n",
        "  plt.ylabel(string)\n",
        "  plt.legend([string, 'val_'+string])\n",
        "  plt.show()\n",
        "\n",
        "plot_graphs(history, \"accuracy\")\n",
        "plot_graphs(history, \"loss\")"
      ],
      "metadata": {
        "colab": {
          "base_uri": "https://localhost:8080/",
          "height": 881
        },
        "id": "llumhecYYZee",
        "outputId": "99649e68-9443-485f-e94b-1c4f4e2e25ca"
      },
      "execution_count": null,
      "outputs": [
        {
          "output_type": "display_data",
          "data": {
            "text/plain": [
              "<Figure size 640x480 with 1 Axes>"
            ],
            "image/png": "[encoded data removed]"
          },
          "metadata": {}
        },
        {
          "output_type": "display_data",
          "data": {
            "text/plain": [
              "<Figure size 640x480 with 1 Axes>"
            ],
            "image/png": "[encoded data removed]"
          },
          "metadata": {}
        }
      ]
    }
  ]
}